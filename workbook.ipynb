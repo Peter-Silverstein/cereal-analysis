{
 "cells": [
  {
   "cell_type": "code",
   "execution_count": 1,
   "id": "24906f73",
   "metadata": {},
   "outputs": [],
   "source": [
    "import pandas as pd\n",
    "import numpy as np\n",
    "import altair as alt"
   ]
  },
  {
   "cell_type": "code",
   "execution_count": 30,
   "id": "a95c5086",
   "metadata": {},
   "outputs": [
    {
     "data": {
      "text/html": [
       "<div>\n",
       "<style scoped>\n",
       "    .dataframe tbody tr th:only-of-type {\n",
       "        vertical-align: middle;\n",
       "    }\n",
       "\n",
       "    .dataframe tbody tr th {\n",
       "        vertical-align: top;\n",
       "    }\n",
       "\n",
       "    .dataframe thead th {\n",
       "        text-align: right;\n",
       "    }\n",
       "</style>\n",
       "<table border=\"1\" class=\"dataframe\">\n",
       "  <thead>\n",
       "    <tr style=\"text-align: right;\">\n",
       "      <th></th>\n",
       "      <th>date</th>\n",
       "      <th>name</th>\n",
       "      <th>grams</th>\n",
       "    </tr>\n",
       "  </thead>\n",
       "  <tbody>\n",
       "    <tr>\n",
       "      <th>0</th>\n",
       "      <td>2025-06-16</td>\n",
       "      <td>Cheerios</td>\n",
       "      <td>284</td>\n",
       "    </tr>\n",
       "    <tr>\n",
       "      <th>1</th>\n",
       "      <td>2025-06-16</td>\n",
       "      <td>Honey Nut Cheerios</td>\n",
       "      <td>728</td>\n",
       "    </tr>\n",
       "    <tr>\n",
       "      <th>2</th>\n",
       "      <td>2025-06-16</td>\n",
       "      <td>Corn Flakes</td>\n",
       "      <td>364</td>\n",
       "    </tr>\n",
       "    <tr>\n",
       "      <th>3</th>\n",
       "      <td>2025-06-16</td>\n",
       "      <td>Honey Nut Chex</td>\n",
       "      <td>0</td>\n",
       "    </tr>\n",
       "    <tr>\n",
       "      <th>4</th>\n",
       "      <td>2025-06-16</td>\n",
       "      <td>Chex</td>\n",
       "      <td>279</td>\n",
       "    </tr>\n",
       "  </tbody>\n",
       "</table>\n",
       "</div>"
      ],
      "text/plain": [
       "        date                name  grams\n",
       "0 2025-06-16            Cheerios    284\n",
       "1 2025-06-16  Honey Nut Cheerios    728\n",
       "2 2025-06-16         Corn Flakes    364\n",
       "3 2025-06-16      Honey Nut Chex      0\n",
       "4 2025-06-16                Chex    279"
      ]
     },
     "execution_count": 30,
     "metadata": {},
     "output_type": "execute_result"
    }
   ],
   "source": [
    "# Loading and cleaning data\n",
    "cereal_ts = pd.read_csv(\"cereal-time-data.csv\")\n",
    "cereal_ts['grams'] = cereal_ts['grams'].fillna(value = 0).replace(' ', 0)\n",
    "cereal_ts['date'] = pd.to_datetime(cereal_ts['date'], format = '%m/%d/%y')\n",
    "cereal_ts = cereal_ts.astype({'name':'string', 'grams':'int'})\n",
    "cereal_ts.head()\n"
   ]
  },
  {
   "cell_type": "code",
   "execution_count": null,
   "id": "1265dea0",
   "metadata": {},
   "outputs": [],
   "source": []
  }
 ],
 "metadata": {
  "kernelspec": {
   "display_name": "venv",
   "language": "python",
   "name": "python3"
  },
  "language_info": {
   "codemirror_mode": {
    "name": "ipython",
    "version": 3
   },
   "file_extension": ".py",
   "mimetype": "text/x-python",
   "name": "python",
   "nbconvert_exporter": "python",
   "pygments_lexer": "ipython3",
   "version": "3.13.3"
  }
 },
 "nbformat": 4,
 "nbformat_minor": 5
}
